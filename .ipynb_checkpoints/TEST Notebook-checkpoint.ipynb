{
 "cells": [
  {
   "cell_type": "code",
   "execution_count": 9,
   "metadata": {
    "ExecuteTime": {
     "end_time": "2020-07-21T14:56:17.941761Z",
     "start_time": "2020-07-21T14:56:17.935977Z"
    }
   },
   "outputs": [],
   "source": [
    "import re\n",
    "import sys\n",
    "import json\n",
    "import numpy as np\n",
    "from operator import itemgetter\n",
    "from itertools import chain\n",
    "#############################################\n",
    "# Settings\n",
    "#############################################"
   ]
  },
  {
   "cell_type": "code",
   "execution_count": 3,
   "metadata": {
    "ExecuteTime": {
     "end_time": "2020-07-21T14:55:21.307693Z",
     "start_time": "2020-07-21T14:55:21.302462Z"
    }
   },
   "outputs": [],
   "source": [
    "nb_infile = \"book/content/chapter2_1.ipynb\"\n",
    "nb_outfile = \"book/content/chapter2_1_new.ipynb\"\n",
    "bib_filename = None"
   ]
  },
  {
   "cell_type": "code",
   "execution_count": 4,
   "metadata": {
    "ExecuteTime": {
     "end_time": "2020-07-21T14:55:23.127461Z",
     "start_time": "2020-07-21T14:55:23.059800Z"
    }
   },
   "outputs": [
    {
     "name": "stdout",
     "output_type": "stream",
     "text": [
      "Input Jupyter Notebook read successfully\n"
     ]
    }
   ],
   "source": [
    "# Load Jupyter Notebook as Dictionary\n",
    "try:\n",
    "    with open(nb_infile,'r') as fp:\n",
    "        nb = json.load(fp)\n",
    "    fp.close()\n",
    "    print(\"Input Jupyter Notebook read successfully\")\n",
    "except:\n",
    "    print(\"Couldn't find Jupyter Notebook. Check your input path\")"
   ]
  },
  {
   "cell_type": "code",
   "execution_count": 36,
   "metadata": {
    "ExecuteTime": {
     "end_time": "2020-07-21T16:57:48.116799Z",
     "start_time": "2020-07-21T16:57:48.099797Z"
    }
   },
   "outputs": [],
   "source": [
    "def split_cell_content(cell_content, latex_markers_positions):\n",
    "    first_idx = latex_markers_positions[0]\n",
    "    last_idx = latex_markers_positions[-1]\n",
    "    latex_markers_positions = [0] + latex_markers_positions + [-1]\n",
    "    \n",
    "    eqs_begin_indices = latex_markers_positions[1:-1:2]\n",
    "    eqs_end_indices = list(np.array( latex_markers_positions[2::2] ) + 1)\n",
    "    eqs_idx_pairs = list(zip(eqs_begin_indices, eqs_end_indices))\n",
    "    \n",
    "    text_begin_indices = list(np.array( latex_markers_positions[2::2] ) + 1)\n",
    "    text_end_indices = list(np.array( latex_markers_positions[3:-1:2] ) + 0)\n",
    "    text_idx_pairs = [(0,first_idx)] + list(zip(text_begin_indices, text_end_indices)) + [(last_idx+1, -1)]\n",
    "    \n",
    "    all_idx_pairs = [(x, 'txt') for x in text_idx_pairs] + [(x, 'eq') for x in eqs_idx_pairs]\n",
    "    all_idx_pairs.sort(key = lambda x: x[0][0])\n",
    "\n",
    "    cell_content_split = [cell_content[idx_pair[0][0]: idx_pair[0][1]] for idx_pair in all_idx_pairs]\n",
    "    cell_content_type = [idx_pair[1] for idx_pair in all_idx_pairs]\n",
    "    \n",
    "    return cell_content_split, cell_content_type"
   ]
  },
  {
   "cell_type": "code",
   "execution_count": 48,
   "metadata": {
    "ExecuteTime": {
     "end_time": "2020-07-21T17:18:38.024074Z",
     "start_time": "2020-07-21T17:18:38.011277Z"
    }
   },
   "outputs": [],
   "source": [
    "def insert_math_env(cell_content_split, cell_content_type):\n",
    "    cell_content_new = []\n",
    "    N = len(cell_content_split)\n",
    "    for i in range(N):\n",
    "        content_chunk = cell_content_split[i]\n",
    "        content_type = cell_content_type[i]\n",
    "        if content_type == \"eq\":\n",
    "            label_name = \"\"\n",
    "            for line in content_chunk:\n",
    "                # Find all LaTeX equation labels\n",
    "                item_matched = re.findall(latex_eqlabel_pattern, line)\n",
    "                if len(item_matched) > 0:\n",
    "                    label_type, label_name = item_matched[0].strip().split(\":\")\n",
    "\n",
    "            upper = [\"```{math}\\n\", \"---\\n\", \"label: \"+label_name+\"\\n\", \"---\\n\"]\n",
    "            body  =  content_chunk\n",
    "            lower = [\"```\"]\n",
    "            content_chunk =  list(chain.from_iterable([upper, body, lower])) \n",
    "            cell_content_new.append(content_chunk)\n",
    "        else:\n",
    "            cell_content_new.append(content_chunk)\n",
    "\n",
    "    return list(chain.from_iterable(cell_content_new))"
   ]
  },
  {
   "cell_type": "code",
   "execution_count": 37,
   "metadata": {
    "ExecuteTime": {
     "end_time": "2020-07-21T16:57:49.064385Z",
     "start_time": "2020-07-21T16:57:49.057682Z"
    }
   },
   "outputs": [],
   "source": [
    "markdown_env_equation = [\"```{math}\", \"```\"] # MyST Markdown Equation environment markers\n",
    "markdown_eqlabel = [\"---\", \"label: \", \"---\"] # MyST Markdown equation label format\n",
    "\n",
    "latex_eqlabel_pattern = re.compile(r'\\\\label\\{(.+?)\\}') # LaTeX equation label pattern\n",
    "latex_env_equation = [r\"\\\\begin{equation}\", r\"\\\\end{equation}\"] #LaTeX equation environment markers\n",
    "latex_env_eqnarray = [r\"\\\\begin{eqnarray}\", r\"\\\\end{eqnarray}\"] #LaTeX eqnarray environment markers"
   ]
  },
  {
   "cell_type": "code",
   "execution_count": 52,
   "metadata": {
    "ExecuteTime": {
     "end_time": "2020-07-21T17:25:53.032594Z",
     "start_time": "2020-07-21T17:25:53.016891Z"
    }
   },
   "outputs": [],
   "source": [
    "PATTERNS = latex_env_equation + latex_env_eqnarray\n",
    "\n",
    "for i in range(len(nb['cells'])):\n",
    "    cell = nb['cells'][i]\n",
    "    latex_markers_positions = []\n",
    "    cell_content = cell['source']\n",
    "    \n",
    "    for j in range(len(cell['source'])):\n",
    "        item = cell['source'][j]\n",
    "\n",
    "        for string in PATTERNS:\n",
    "            item_matched = re.findall(string, item)\n",
    "            if len(item_matched) > 0:\n",
    "                latex_markers_positions.append(j)\n",
    "    if len(latex_markers_positions) > 0:\n",
    "        cell_content_split, cell_content_type = split_cell_content(cell_content, latex_markers_positions)\n",
    "        cell_content_modified = insert_math_env(cell_content_split, cell_content_type)\n",
    "        nb['cells'][i]['source'] = cell_content_modified"
   ]
  },
  {
   "cell_type": "code",
   "execution_count": 54,
   "metadata": {
    "ExecuteTime": {
     "end_time": "2020-07-21T17:27:23.223321Z",
     "start_time": "2020-07-21T17:27:23.007265Z"
    }
   },
   "outputs": [],
   "source": [
    "with open(nb_outfile,'w') as fp:\n",
    "    json.dump(nb, fp)"
   ]
  },
  {
   "cell_type": "code",
   "execution_count": null,
   "metadata": {},
   "outputs": [],
   "source": []
  },
  {
   "cell_type": "code",
   "execution_count": null,
   "metadata": {},
   "outputs": [],
   "source": []
  },
  {
   "cell_type": "code",
   "execution_count": null,
   "metadata": {},
   "outputs": [],
   "source": []
  },
  {
   "cell_type": "code",
   "execution_count": null,
   "metadata": {},
   "outputs": [],
   "source": []
  },
  {
   "cell_type": "code",
   "execution_count": null,
   "metadata": {},
   "outputs": [],
   "source": []
  },
  {
   "cell_type": "code",
   "execution_count": null,
   "metadata": {},
   "outputs": [],
   "source": []
  },
  {
   "cell_type": "markdown",
   "metadata": {},
   "source": [
    "Modify cell content when equations present"
   ]
  },
  {
   "cell_type": "code",
   "execution_count": 41,
   "metadata": {
    "ExecuteTime": {
     "end_time": "2020-07-21T16:59:54.852563Z",
     "start_time": "2020-07-21T16:59:54.843247Z"
    }
   },
   "outputs": [
    {
     "data": {
      "text/plain": [
       "(17, 17)"
      ]
     },
     "execution_count": 41,
     "metadata": {},
     "output_type": "execute_result"
    }
   ],
   "source": [
    "len(cell_content_split), len(cell_content_type)"
   ]
  },
  {
   "cell_type": "code",
   "execution_count": 48,
   "metadata": {
    "ExecuteTime": {
     "end_time": "2020-07-21T17:18:38.024074Z",
     "start_time": "2020-07-21T17:18:38.011277Z"
    }
   },
   "outputs": [],
   "source": [
    "def insert_math_env(cell_content_split, cell_content_type):\n",
    "    cell_content_new = []\n",
    "    N = len(cell_content_split)\n",
    "    for i in range(N):\n",
    "        content_chunk = cell_content_split[i]\n",
    "        content_type = cell_content_type[i]\n",
    "        if content_type == \"eq\":\n",
    "            label_name = \"\"\n",
    "            for line in content_chunk:\n",
    "                # Find all LaTeX equation labels\n",
    "                item_matched = re.findall(latex_eqlabel_pattern, line)\n",
    "                if len(item_matched) > 0:\n",
    "                    label_type, label_name = item_matched[0].strip().split(\":\")\n",
    "\n",
    "            upper = [\"```{math}\\n\", \"---\\n\", \"label: \"+label_name+\"\\n\", \"---\\n\"]\n",
    "            body  =  content_chunk\n",
    "            lower = [\"```\"]\n",
    "            content_chunk =  list(chain.from_iterable([upper, body, lower])) \n",
    "            cell_content_new.append(content_chunk)\n",
    "        else:\n",
    "            cell_content_new.append(content_chunk)\n",
    "\n",
    "    return list(chain.from_iterable(cell_content_new))"
   ]
  },
  {
   "cell_type": "code",
   "execution_count": 49,
   "metadata": {
    "ExecuteTime": {
     "end_time": "2020-07-21T17:18:38.590759Z",
     "start_time": "2020-07-21T17:18:38.578215Z"
    }
   },
   "outputs": [
    {
     "data": {
      "text/plain": [
       "['The NHIM and its stable and unstable manifolds can be found analogously to the  2 degree of freedom system case. If $q_1=p_1=0$ then $\\\\dot{q_1}=0$ and $\\\\dot{p_1}=0$ and the system consists of $n-1$ harmonic oscillators bounded by the fixed total energy. For $E=0$, $q_1,p_1=0$ is an unstable equilibrium point and for $E>0$, an invariant set that can be shown to be a sphere. The dimension of the sphere depends on the number of degrees of freedom with non-zero energy. This sphere is a manifold, it is invariant and normally hyperbolic, hence a NHIM. In general a NHIM does not have to be a sphere. If all degrees of freedom have non-zero energy, except for $q_1,p_1=0$, the NHIM is $2n-3$ dimensional and its stable and unstable manifolds are dynamical barriers on the energy level set according to Tab. \\\\ref{tab:dimensions}.\\n',\n",
       " '\\n',\n",
       " '```{math}\\n',\n",
       " '---\\n',\n",
       " 'label: \\n',\n",
       " '---\\n',\n",
       " '\\\\begin{equation}\\n',\n",
       " '\\\\displaystyle{ \\\\Gamma = \\\\lbrace  (0,q_2,...,q_n, 0,p_2,...,p_n ) | \\\\sum_{i=2}^n \\\\frac{\\\\omega_i}{2} (p^2_i + q^2_i) = E  > 0,\\\\rbrace }\\n',\n",
       " '\\\\end{equation}\\n',\n",
       " '```',\n",
       " '\\n',\n",
       " 'Note that the NHIM is a generalization of the hyperbolic equilibrium point and hyperbolic periodic orbit from previous examples.\\n',\n",
       " '\\n',\n",
       " 'The stable and unstable manifolds, $W^{u}(\\\\Gamma)$ and $W^{s}(\\\\Gamma)$, are multidimensional cylinders that intersect in the multidimensional sphere $\\\\Gamma$.\\n',\n",
       " '\\n',\n",
       " '```{math}\\n',\n",
       " '---\\n',\n",
       " 'label: \\n',\n",
       " '---\\n',\n",
       " '\\\\begin{equation}\\n',\n",
       " '\\\\displaystyle{ W^u(\\\\Gamma)= \\\\lbrace  (q_1,q_2,...,q_n, p_1,p_2,...,p_n )  |    \\\\sum^n_{i=2} \\\\frac{\\\\omega_i}{2} (p^2_i + q^2_i) = E > 0,  q_1 = p_1  \\\\rbrace }.\\n',\n",
       " '\\\\end{equation}\\n',\n",
       " '```',\n",
       " '\\n',\n",
       " '\\n',\n",
       " '```{math}\\n',\n",
       " '---\\n',\n",
       " 'label: \\n',\n",
       " '---\\n',\n",
       " '\\\\begin{equation}\\n',\n",
       " '\\\\displaystyle{ W^s(\\\\Gamma)= \\\\lbrace  (q_1,q_2,...,q_n, p_1,p_2,...,p_n )  |    \\\\sum^n_{i=2} \\\\frac{\\\\omega_i}{2} (p^2_i + q^2_i)    = E > 0,  q_1 = - p_1  \\\\rbrace }.\\n',\n",
       " '\\\\end{equation}\\n',\n",
       " '```',\n",
       " '\\n',\n",
       " 'The general study  of NHIMs, including their characterization,  the nature of their  invariant manifolds, and their properties under perturbations for more general systems are discussed in the works by Fenichel {cite}`Fenichel1971,Fenichel1974,Fenichel1977` and more recent works {cite}`Wigginsbook1994,Eldering2013`.\\n',\n",
       " '\\n',\n",
       " 'It is important to note that the  basic theory of NHIMs does not tell us how to find NHIMs in specific systems. It only characterizes them and describes their properties based on that characterization. Next we describe a theorem from Hamiltonian systems that provides sufficient conditions for the existence of NHIMs under certain specific circumstances.\\n',\n",
       " '\\n',\n",
       " '## The Lyapunov Subcenter Theorem\\n',\n",
       " '\\\\label{sec:LyapSub}\\n',\n",
       " '\\n',\n",
       " \"The Lyapunov subcenter theorem {cite}`liapounoff1907probleme` is a fundamental theorem in Hamiltonian mechanics that describes how index one saddle points of Hamilton's equations give rise to periodic orbits, or ``NHIMs''. Basic background on the topic can be found in {cite}`moser1958generalization,kelley1967liapounov,moser1976periodic,weinstein1973normal,duistermaat1972periodic`.\\n\",\n",
       " '\\n',\n",
       " 'We will explain the ideas in the context of a two degree-of-freedom quadratic Hamiltonian, and then describe how they extend to more general settings.\\n',\n",
       " '\\n',\n",
       " '```{math}\\n',\n",
       " '---\\n',\n",
       " 'label: LST1\\n',\n",
       " '---\\n',\n",
       " '\\\\begin{equation}\\n',\n",
       " 'H = \\\\frac{\\\\lambda}{2} (p_1^2 - q_1^2) + \\\\frac{\\\\omega}{2} ( p_2^2 + q_2^2), \\\\quad \\\\lambda, \\\\, \\\\omega >0, \\\\quad (q_1, p_1, q_2, p_2) \\\\in \\\\mathbb{R}^4,\\n',\n",
       " '\\\\label{eq:LST1}\\n',\n",
       " '\\\\end{equation}\\n',\n",
       " '```',\n",
       " '\\n',\n",
       " '\\\\noindent\\n',\n",
       " \"with corresponding Hamilton's equations:\\n\",\n",
       " '\\n',\n",
       " '```{math}\\n',\n",
       " '---\\n',\n",
       " 'label: LST2\\n',\n",
       " '---\\n',\n",
       " '\\\\begin{eqnarray}\\n',\n",
       " '\\\\dot{q}_1 & = & \\\\frac{\\\\partial H}{\\\\partial p_1} =  \\\\lambda p_1, \\\\nonumber \\\\\\\\\\n',\n",
       " '\\\\dot{p}_1 & = & - \\\\frac{\\\\partial H}{\\\\partial q_1} =  \\\\lambda q_1, \\\\nonumber \\\\\\\\\\n',\n",
       " '\\\\dot{q}_2 & = & \\\\frac{\\\\partial H}{\\\\partial p_2} =  \\\\omega  p_2, \\\\nonumber \\\\\\\\\\n',\n",
       " '\\\\dot{p}_2 & = & - \\\\frac{\\\\partial H}{\\\\partial q_2} =  - \\\\omega q_2, \\n',\n",
       " '\\\\label{eq:LST2}\\n',\n",
       " '\\\\end{eqnarray}\\n',\n",
       " '```',\n",
       " '\\n',\n",
       " '\\\\noindent\\n',\n",
       " \"The point $(q_1, p_1, q_2, p_2) = (0, 0, 0, 0)$ is an equilibrium point of Hamilton's equations, and the eigenvalues of the matrix associated with the linearization of Hamilton's equations about this equilibrium point are\\n\",\n",
       " '$\\\\pm \\\\lambda, \\\\, \\\\pm i \\\\omega$. Hence, this equilibrium point is an index one saddle point. Note that the total energy of this equilibrium point, i.e. the value of the Hamiltonian \\\\eqref{eq:LST1}  evaluated at the equilibrium point, is zero.\\n',\n",
       " '\\n',\n",
       " '```{math}\\n',\n",
       " '---\\n',\n",
       " 'label: LST3\\n',\n",
       " '---\\n',\n",
       " '\\\\begin{equation}\\n',\n",
       " ' \\\\frac{\\\\lambda}{2} (p_1^2 - q_1^2) + \\\\frac{\\\\omega}{2} ( p_2^2 + q_2^2)=E >0,\\n',\n",
       " '\\\\label{eq:LST3}\\n',\n",
       " '\\\\end{equation}\\n',\n",
       " '```',\n",
       " '\\n',\n",
       " 'We now want to show that for energies above the index one saddle, i.e. $E>0$, there is a two dimensional invariant manifold of unstable periodic orbits.\\n',\n",
       " '\\n',\n",
       " 'First, note that $q_1 = p_1 =0$ is an invariant manifold for all values of $E$.  We can compute the intersection of this invariant manifold by substituting $q_1 = p_1 =0$ into the energy equation to obtain:\\n',\n",
       " '\\n',\n",
       " '```{math}\\n',\n",
       " '---\\n',\n",
       " 'label: LST4\\n',\n",
       " '---\\n',\n",
       " '\\\\begin{equation}\\n',\n",
       " ' \\\\frac{\\\\omega}{2} ( p_2^2 + q_2^2)=E >0,\\n',\n",
       " '\\\\label{eq:LST4}\\n',\n",
       " '\\\\end{equation}\\n',\n",
       " '```',\n",
       " '\\n',\n",
       " \"which is a periodic orbit for each $E > 0$. It is instructive to count the dimensions for intersecting sets. The phase space is four dimensional, the energy surface is three dimensional, and $q_1 = p_1 =0$ is two dimensional. A three dimensional surface intersects a two dimensional surface in a four dimensional space in a one dimensional set, which is the periodic orbit \\\\eqref{eq:LST4}. This family of periodic orbits (``family'' in terms of the energy $E>0$, lies on the two dimensional invariant manifold $q_1 = p_1 =0$. This is the Lyapunov subcenter manifold. Note that the Lyapunov subcenter manifold is {\\\\em not} isoenergetic. Each periodic orbit has a different energy, monotonically increasing from zero, which is the energy of the index one saddle point.\\n\",\n",
       " '\\n',\n",
       " 'The Lyapunov subcenter theorem says that this result holds, for sufficiently small $E > 0$, if higher  order terms are added to \\\\eqref{eq:LST1}. All of these  periodic orbits are unstable since the dynamics normal to the Lyapunov subcenter manifold is exponentially growing and decaying, i.e. the Lyapunov subcenter manifold is a NHIM.\\n',\n",
       " '\\n',\n",
       " 'This set-up can be generalized to higher dimensions. The quadratic normal form associated to an index $n_s$ saddle has the general form (assuming  that the $\\\\lambda_i$ are distinct and the  $\\\\omega_i$ are distinct):\\n',\n",
       " '\\n',\n",
       " '```{math}\\n',\n",
       " '---\\n',\n",
       " 'label: LST5\\n',\n",
       " '---\\n',\n",
       " '\\\\begin{equation}\\n',\n",
       " 'H =\\\\sum_{i=1}^{n_s} \\\\frac{\\\\lambda_i}{2} (p_i^2 - q_i^2) + \\\\sum_{i=1}^{n_c}\\\\frac{\\\\omega_{i+n_s}}{2} ( p_{i+n_s}^2 + q_{i+n_s}^2), \\n',\n",
       " '\\\\label{eq:LST5}\\n',\n",
       " '\\\\end{equation}\\n',\n",
       " '```',\n",
       " '\\n',\n",
       " 'where  $\\\\lambda_i, \\\\, \\\\omega_i >0, \\\\quad (q_1, p_1,  \\\\ldots, q_{n_s}, p_{n_s},  q_{n_s +1}, p_{n_s + 1}, \\\\ldots, q_{n_s +n_c}, p_{n_s + n_c}) \\n',\n",
       " '\\\\in \\\\mathbb{R}^{2(n_s + n_c)}$.\\n',\n",
       " '\\n',\n",
       " 'The structure of the NHIM is treated in detail for ${n_s} =1$ in {cite}`wiggins2016role`.  Results for ${n_s} >1$ are treated in {cite}`collins2011index`. \\n']"
      ]
     },
     "execution_count": 49,
     "metadata": {},
     "output_type": "execute_result"
    }
   ],
   "source": [
    "insert_math_env(cell_content_split, cell_content_type)"
   ]
  },
  {
   "cell_type": "code",
   "execution_count": null,
   "metadata": {},
   "outputs": [],
   "source": []
  },
  {
   "cell_type": "code",
   "execution_count": null,
   "metadata": {},
   "outputs": [],
   "source": []
  },
  {
   "cell_type": "code",
   "execution_count": null,
   "metadata": {},
   "outputs": [],
   "source": []
  },
  {
   "cell_type": "code",
   "execution_count": 12,
   "metadata": {
    "ExecuteTime": {
     "end_time": "2020-07-21T16:45:39.307384Z",
     "start_time": "2020-07-21T16:45:38.814518Z"
    }
   },
   "outputs": [
    {
     "data": {
      "text/plain": [
       "[['The equations of motion are \\n', '\\n'],\n",
       " ['\\\\begin{eqnarray}\\n',\n",
       "  '\\\\dot{q_1} &=& \\\\frac{\\\\partial H}{ \\\\partial p_1} =\\\\lambda p_1  \\\\nonumber \\\\\\\\\\n',\n",
       "  '\\\\dot{p_1} &=& -\\\\frac{\\\\partial H}{ \\\\partial q_1} = \\\\lambda q_1.\\n',\n",
       "  '\\\\end{eqnarray}\\n'],\n",
       " ['\\n',\n",
       "  'For energies $E_1<0$ the energy level set consists of two disconnected parts, a trajectory cannot reach $q_1=0$ due insufficient energy. For $E_1=0$ the two previously disconnected parts connect at $q_1=p_1=0$ and for energies $E_1>0$, any value of $q_1$ is accessible.\\n',\n",
       "  '\\n',\n",
       "  'The origin, $\\\\mathcal{M} = (q_1=0,p_1=0)$, is a equilibrium point of the system. The trajectory that starts at $\\\\mathcal{M}$ remains always at the same point.\\n',\n",
       "  '\\n',\n",
       "  '\\n',\n",
       "  '\\\\textbf{Showing the invariance of candidate sets.}\\n',\n",
       "  '\\n',\n",
       "  'Let us consider the line $ q_1 = - p_1$. The Hamiltonian vector field evaluated on the line is tangent to the line.\\n',\n",
       "  '\\n'],\n",
       " ['\\\\begin{eqnarray}\\n',\n",
       "  '\\\\dot{q_1} &=& -\\\\lambda q_1  \\\\nonumber \\\\\\\\\\n',\n",
       "  '\\\\dot{p_1} &=& -\\\\lambda p_1.\\n',\n",
       "  '\\\\label{eq:ws}\\n',\n",
       "  '\\\\end{eqnarray}\\n'],\n",
       " ['\\n',\n",
       "  'A trajectory that starts on the line $ q_1 = - p_1$ remains on the line. This line is an invariant set under the flow. \\n',\n",
       "  '\\n',\n",
       "  'The solution of the system of differential Eq. (\\\\ref{eq:ws}) decay exponentially in time.\\n',\n",
       "  '\\n'],\n",
       " ['\\\\begin{eqnarray}\\n',\n",
       "  'q_1(t) &=& q_1(0) e^{-\\\\lambda t}  \\\\nonumber\\\\\\\\\\n',\n",
       "  'p_1(t) &=& p_1(0) e^{-\\\\lambda t}.\\n',\n",
       "  '\\\\end{eqnarray}\\n'],\n",
       " ['\\n',\n",
       "  'Any trajectory that starts on $q_1 = - p_1$ converges to the equilibrium point $\\\\mathcal{M}$ in an infinite time. These properties motivate the definition of the stable manifold of the set $\\\\mathcal{M}$. The stable manifold $W^s(\\\\mathcal{M})$ of the set $\\\\mathcal{M}$ is the set of points in the energy level set such that their corresponding trajectories converge to the set $\\\\mathcal{M}$ when the time goes to infinity.\\n',\n",
       "  '\\n'],\n",
       " ['\\\\begin{equation}\\n',\n",
       "  '\\\\displaystyle{ W^s(\\\\mathcal{M})=  \\\\lbrace (q_1,p_1) | (q_1(t), p_1(t) ) \\\\rightarrow \\\\mathcal{M} , t \\\\rightarrow + \\\\infty \\\\rbrace} = \\\\lbrace  (q_1, p_1 )  |  q_1 = - p_1 \\\\rbrace  \\n',\n",
       "  '\\\\end{equation}\\n'],\n",
       " ['\\n',\n",
       "  'Now, let us consider the trajectories that start on the line $ q_1 =  p_1$. Like in the previous case, the Hamiltonian vector field is tangent to the line,\\n',\n",
       "  '\\n'],\n",
       " ['\\\\begin{eqnarray}\\n',\n",
       "  '\\\\dot{q_1} &=& \\\\lambda q_1  \\\\nonumber\\\\\\\\\\n',\n",
       "  '\\\\dot{p_1} &=& \\\\lambda p_1.\\n',\n",
       "  '\\\\end{eqnarray}\\n'],\n",
       " ['\\n',\n",
       "  'However, the vector field points away from $\\\\mathcal{M}$. The trajectories that start on the line $ q_1 =  p_1$ diverge from the equilibrium point $\\\\mathcal{M}$.\\n',\n",
       "  '\\n'],\n",
       " ['\\\\begin{eqnarray}\\n',\n",
       "  'q_1(t) &=& q_1(0) e^{\\\\lambda t}  \\\\nonumber\\\\\\\\\\n',\n",
       "  'p_1(t) &=& p_1(0) e^{\\\\lambda t}.\\n',\n",
       "  '\\\\end{eqnarray}\\n'],\n",
       " ['\\n',\n",
       "  'Analogously, these properties motivate the definition of the unstable manifold of the set $\\\\mathcal{M}$. The unstable manifold $W^u(\\\\mathcal{M})$ of $\\\\mathcal{M}$ is the set of points in the phase space such that their corresponding trajectories converge to the set $\\\\mathcal{M}$ when the time goes to minus infinity.\\n',\n",
       "  '\\n'],\n",
       " ['\\\\begin{equation}\\n',\n",
       "  '\\\\displaystyle{ W^u(\\\\mathcal{M})= \\\\lbrace (q_1,p_1) | (q_1(t), p_1(t) ) \\\\rightarrow \\\\mathcal{M} , t \\\\rightarrow - \\\\infty  \\\\rbrace =  \\\\lbrace  (q_1, p_1 )  |  q_1 = p_1  \\\\rbrace  }. \\n',\n",
       "  '\\\\end{equation}\\n'],\n",
       " ['\\n',\n",
       "  'The existence of two special directions where the trajectories converge to the $\\\\mathcal{M}$ in some direction and diverge from $\\\\mathcal{M}$ in other one is the essence of the concept of hyperbolicity.\\n',\n",
       "  '\\n']]"
      ]
     },
     "execution_count": 12,
     "metadata": {},
     "output_type": "execute_result"
    }
   ],
   "source": [
    "latex_markers_positions = [2, 5, 16, 20, 26, 29, 33, 35, 39, 42, 46, 49, 53, 55]\n",
    "cell_content = nb['cells'][6]['source']\n",
    "split_cell_content(cell_content, latex_markers_positions)"
   ]
  },
  {
   "cell_type": "code",
   "execution_count": 14,
   "metadata": {
    "ExecuteTime": {
     "end_time": "2020-07-21T16:46:01.928279Z",
     "start_time": "2020-07-21T16:46:01.921281Z"
    }
   },
   "outputs": [],
   "source": [
    "latex_markers_positions = [2, 5, 16, 20, 26, 29, 33, 35, 39, 42, 46, 49, 53, 55]\n",
    "first_idx = latex_markers_positions[0]\n",
    "last_idx = latex_markers_positions[-1]\n",
    "\n",
    "latex_markers_positions = [0] + latex_markers_positions + [-1]"
   ]
  },
  {
   "cell_type": "code",
   "execution_count": 15,
   "metadata": {
    "ExecuteTime": {
     "end_time": "2020-07-21T16:46:02.422803Z",
     "start_time": "2020-07-21T16:46:02.415974Z"
    }
   },
   "outputs": [],
   "source": [
    "import numpy as np\n",
    "from operator import itemgetter"
   ]
  },
  {
   "cell_type": "code",
   "execution_count": 16,
   "metadata": {
    "ExecuteTime": {
     "end_time": "2020-07-21T16:46:02.864797Z",
     "start_time": "2020-07-21T16:46:02.857758Z"
    }
   },
   "outputs": [],
   "source": [
    "eqs_begin_indices = latex_markers_positions[1:-1:2]\n",
    "eqs_end_indices = list(np.array( latex_markers_positions[2::2] ) + 1)\n",
    "\n",
    "eqs_range = list(zip(eqs_begin_indices, eqs_end_indices))"
   ]
  },
  {
   "cell_type": "code",
   "execution_count": 17,
   "metadata": {
    "ExecuteTime": {
     "end_time": "2020-07-21T16:46:03.325279Z",
     "start_time": "2020-07-21T16:46:03.318626Z"
    }
   },
   "outputs": [
    {
     "name": "stdout",
     "output_type": "stream",
     "text": [
      "[(2, 6), (16, 21), (26, 30), (33, 36), (39, 43), (46, 50), (53, 56)]\n"
     ]
    }
   ],
   "source": [
    "print(eqs_range)"
   ]
  },
  {
   "cell_type": "code",
   "execution_count": 18,
   "metadata": {
    "ExecuteTime": {
     "end_time": "2020-07-21T16:46:03.807684Z",
     "start_time": "2020-07-21T16:46:03.799096Z"
    }
   },
   "outputs": [],
   "source": [
    "text_begin_indices = list(np.array( latex_markers_positions[2::2] ) + 1)\n",
    "text_end_indices = list(np.array( latex_markers_positions[3:-1:2] ) + 0)\n",
    "\n",
    "text_range = [(0,first_idx)] + list(zip(text_begin_indices, text_end_indices)) + [(last_idx+1, -1)]"
   ]
  },
  {
   "cell_type": "code",
   "execution_count": 19,
   "metadata": {
    "ExecuteTime": {
     "end_time": "2020-07-21T16:46:04.292592Z",
     "start_time": "2020-07-21T16:46:04.287703Z"
    }
   },
   "outputs": [
    {
     "name": "stdout",
     "output_type": "stream",
     "text": [
      "[(0, 2), (6, 16), (21, 26), (30, 33), (36, 39), (43, 46), (50, 53), (56, -1)]\n"
     ]
    }
   ],
   "source": [
    "print(text_range)"
   ]
  },
  {
   "cell_type": "code",
   "execution_count": 23,
   "metadata": {
    "ExecuteTime": {
     "end_time": "2020-07-21T16:47:38.593063Z",
     "start_time": "2020-07-21T16:47:38.587201Z"
    }
   },
   "outputs": [],
   "source": [
    "y = [(x, 'txt') for x in text_range] + [(x, 'eq') for x in eqs_range]"
   ]
  },
  {
   "cell_type": "code",
   "execution_count": 25,
   "metadata": {
    "ExecuteTime": {
     "end_time": "2020-07-21T16:48:04.347421Z",
     "start_time": "2020-07-21T16:48:04.341874Z"
    }
   },
   "outputs": [],
   "source": [
    "y.sort(key = lambda x: x[0][0])"
   ]
  },
  {
   "cell_type": "code",
   "execution_count": 26,
   "metadata": {
    "ExecuteTime": {
     "end_time": "2020-07-21T16:48:08.539099Z",
     "start_time": "2020-07-21T16:48:08.526868Z"
    }
   },
   "outputs": [
    {
     "data": {
      "text/plain": [
       "[((0, 2), 'txt'),\n",
       " ((2, 6), 'eq'),\n",
       " ((6, 16), 'txt'),\n",
       " ((16, 21), 'eq'),\n",
       " ((21, 26), 'txt'),\n",
       " ((26, 30), 'eq'),\n",
       " ((30, 33), 'txt'),\n",
       " ((33, 36), 'eq'),\n",
       " ((36, 39), 'txt'),\n",
       " ((39, 43), 'eq'),\n",
       " ((43, 46), 'txt'),\n",
       " ((46, 50), 'eq'),\n",
       " ((50, 53), 'txt'),\n",
       " ((53, 56), 'eq'),\n",
       " ((56, -1), 'txt')]"
      ]
     },
     "execution_count": 26,
     "metadata": {},
     "output_type": "execute_result"
    }
   ],
   "source": [
    "y"
   ]
  },
  {
   "cell_type": "code",
   "execution_count": 20,
   "metadata": {
    "ExecuteTime": {
     "end_time": "2020-07-21T16:46:05.337335Z",
     "start_time": "2020-07-21T16:46:05.327692Z"
    }
   },
   "outputs": [
    {
     "data": {
      "text/plain": [
       "[(0, 2),\n",
       " (2, 6),\n",
       " (6, 16),\n",
       " (16, 21),\n",
       " (21, 26),\n",
       " (26, 30),\n",
       " (30, 33),\n",
       " (33, 36),\n",
       " (36, 39),\n",
       " (39, 43),\n",
       " (43, 46),\n",
       " (46, 50),\n",
       " (50, 53),\n",
       " (53, 56),\n",
       " (56, -1)]"
      ]
     },
     "execution_count": 20,
     "metadata": {},
     "output_type": "execute_result"
    }
   ],
   "source": [
    "y = text_range + eqs_range\n",
    "y.sort(key = lambda x: x[0])\n",
    "y"
   ]
  },
  {
   "cell_type": "code",
   "execution_count": 27,
   "metadata": {
    "ExecuteTime": {
     "end_time": "2020-07-21T16:50:05.735726Z",
     "start_time": "2020-07-21T16:50:05.670224Z"
    }
   },
   "outputs": [
    {
     "name": "stdout",
     "output_type": "stream",
     "text": [
      "txt ['The equations of motion are \\n', '\\n']\n",
      "eq ['\\\\begin{eqnarray}\\n', '\\\\dot{q_1} &=& \\\\frac{\\\\partial H}{ \\\\partial p_1} =\\\\lambda p_1  \\\\nonumber \\\\\\\\\\n', '\\\\dot{p_1} &=& -\\\\frac{\\\\partial H}{ \\\\partial q_1} = \\\\lambda q_1.\\n', '\\\\end{eqnarray}\\n']\n",
      "txt ['\\n', 'For energies $E_1<0$ the energy level set consists of two disconnected parts, a trajectory cannot reach $q_1=0$ due insufficient energy. For $E_1=0$ the two previously disconnected parts connect at $q_1=p_1=0$ and for energies $E_1>0$, any value of $q_1$ is accessible.\\n', '\\n', 'The origin, $\\\\mathcal{M} = (q_1=0,p_1=0)$, is a equilibrium point of the system. The trajectory that starts at $\\\\mathcal{M}$ remains always at the same point.\\n', '\\n', '\\n', '\\\\textbf{Showing the invariance of candidate sets.}\\n', '\\n', 'Let us consider the line $ q_1 = - p_1$. The Hamiltonian vector field evaluated on the line is tangent to the line.\\n', '\\n']\n",
      "eq ['\\\\begin{eqnarray}\\n', '\\\\dot{q_1} &=& -\\\\lambda q_1  \\\\nonumber \\\\\\\\\\n', '\\\\dot{p_1} &=& -\\\\lambda p_1.\\n', '\\\\label{eq:ws}\\n', '\\\\end{eqnarray}\\n']\n",
      "txt ['\\n', 'A trajectory that starts on the line $ q_1 = - p_1$ remains on the line. This line is an invariant set under the flow. \\n', '\\n', 'The solution of the system of differential Eq. (\\\\ref{eq:ws}) decay exponentially in time.\\n', '\\n']\n",
      "eq ['\\\\begin{eqnarray}\\n', 'q_1(t) &=& q_1(0) e^{-\\\\lambda t}  \\\\nonumber\\\\\\\\\\n', 'p_1(t) &=& p_1(0) e^{-\\\\lambda t}.\\n', '\\\\end{eqnarray}\\n']\n",
      "txt ['\\n', 'Any trajectory that starts on $q_1 = - p_1$ converges to the equilibrium point $\\\\mathcal{M}$ in an infinite time. These properties motivate the definition of the stable manifold of the set $\\\\mathcal{M}$. The stable manifold $W^s(\\\\mathcal{M})$ of the set $\\\\mathcal{M}$ is the set of points in the energy level set such that their corresponding trajectories converge to the set $\\\\mathcal{M}$ when the time goes to infinity.\\n', '\\n']\n",
      "eq ['\\\\begin{equation}\\n', '\\\\displaystyle{ W^s(\\\\mathcal{M})=  \\\\lbrace (q_1,p_1) | (q_1(t), p_1(t) ) \\\\rightarrow \\\\mathcal{M} , t \\\\rightarrow + \\\\infty \\\\rbrace} = \\\\lbrace  (q_1, p_1 )  |  q_1 = - p_1 \\\\rbrace  \\n', '\\\\end{equation}\\n']\n",
      "txt ['\\n', 'Now, let us consider the trajectories that start on the line $ q_1 =  p_1$. Like in the previous case, the Hamiltonian vector field is tangent to the line,\\n', '\\n']\n",
      "eq ['\\\\begin{eqnarray}\\n', '\\\\dot{q_1} &=& \\\\lambda q_1  \\\\nonumber\\\\\\\\\\n', '\\\\dot{p_1} &=& \\\\lambda p_1.\\n', '\\\\end{eqnarray}\\n']\n",
      "txt ['\\n', 'However, the vector field points away from $\\\\mathcal{M}$. The trajectories that start on the line $ q_1 =  p_1$ diverge from the equilibrium point $\\\\mathcal{M}$.\\n', '\\n']\n",
      "eq ['\\\\begin{eqnarray}\\n', 'q_1(t) &=& q_1(0) e^{\\\\lambda t}  \\\\nonumber\\\\\\\\\\n', 'p_1(t) &=& p_1(0) e^{\\\\lambda t}.\\n', '\\\\end{eqnarray}\\n']\n",
      "txt ['\\n', 'Analogously, these properties motivate the definition of the unstable manifold of the set $\\\\mathcal{M}$. The unstable manifold $W^u(\\\\mathcal{M})$ of $\\\\mathcal{M}$ is the set of points in the phase space such that their corresponding trajectories converge to the set $\\\\mathcal{M}$ when the time goes to minus infinity.\\n', '\\n']\n",
      "eq ['\\\\begin{equation}\\n', '\\\\displaystyle{ W^u(\\\\mathcal{M})= \\\\lbrace (q_1,p_1) | (q_1(t), p_1(t) ) \\\\rightarrow \\\\mathcal{M} , t \\\\rightarrow - \\\\infty  \\\\rbrace =  \\\\lbrace  (q_1, p_1 )  |  q_1 = p_1  \\\\rbrace  }. \\n', '\\\\end{equation}\\n']\n",
      "txt ['\\n', 'The existence of two special directions where the trajectories converge to the $\\\\mathcal{M}$ in some direction and diverge from $\\\\mathcal{M}$ in other one is the essence of the concept of hyperbolicity.\\n', '\\n']\n"
     ]
    }
   ],
   "source": [
    "cell_content = nb['cells'][6]['source']\n",
    "for x in y:\n",
    "    init, end = x[0]\n",
    "    xtype = x[1]\n",
    "    print(xtype, cell_content[init: end])"
   ]
  },
  {
   "cell_type": "code",
   "execution_count": null,
   "metadata": {},
   "outputs": [],
   "source": []
  },
  {
   "cell_type": "code",
   "execution_count": null,
   "metadata": {},
   "outputs": [],
   "source": []
  },
  {
   "cell_type": "code",
   "execution_count": null,
   "metadata": {},
   "outputs": [],
   "source": []
  },
  {
   "cell_type": "code",
   "execution_count": null,
   "metadata": {},
   "outputs": [],
   "source": []
  },
  {
   "cell_type": "code",
   "execution_count": null,
   "metadata": {},
   "outputs": [],
   "source": []
  },
  {
   "cell_type": "code",
   "execution_count": null,
   "metadata": {},
   "outputs": [],
   "source": [
    "\n",
    "def replace_citation_syntax(citations_matched_raw, item):\n",
    "    item_modified = item\n",
    "    for match in citations_matched_raw:\n",
    "        bib_tags_raw = re.split(\",\", match)\n",
    "        bib_tags_clean = [x.strip() for x in bib_tags_raw]\n",
    "        #############################################\n",
    "        # Replace LaTeX syntax with jekyll's in cell items\n",
    "        #############################################\n",
    "#         jekyll_syntax_items = [\"{% cite\"]+bib_tags_clean+['--file '+bib_filename]+[\"%}\"]\n",
    "        jekyll_syntax_items = [\"{cite}`\"]+[\",\".join(bib_tags_clean)]+[\"`\"]\n",
    "        separator = ''\n",
    "        chunk_new = separator.join(jekyll_syntax_items)\n",
    "        chunk_original = '\\cite{'+match+'}'\n",
    "        item_modified = item_modified.replace(chunk_original, chunk_new)\n",
    "    return item_modified\n",
    "\n",
    "def replace_bibliography_syntax(bibliography_matched_raw, item):\n",
    "    # Only one single bibliography line exists\n",
    "    bib_tags_raw = re.split(\",\", bibliography_matched_raw[0])\n",
    "    bib_tags_clean = [x.strip() for x in bib_tags_raw]\n",
    "    separator = ' '\n",
    "    jekyll_syntax_items = [\"{% bibliography\"]+[separator.join(['--file', x]) for x in bib_tags_clean]+[\"--cited %}\"]\n",
    "    chunk_new = separator.join(jekyll_syntax_items)\n",
    "    chunk_original = r'\\bibliography{'+bibliography_matched_raw[0]+'}'\n",
    "    item_modified = item.replace(chunk_original, chunk_new)\n",
    "    return item_modified\n",
    "\n",
    "def latex_to_jekyll_bib(nb):\n",
    "    for i in range(len(nb['cells'])):\n",
    "        cell = nb['cells'][i]\n",
    "        for j in range(len(cell['source'])):\n",
    "            item = cell['source'][j]\n",
    "\n",
    "            citations_matched_raw = re.findall(citations_pattern,item)\n",
    "            bibliography_matched_raw = re.findall(bibliography_pattern,item)\n",
    "\n",
    "            if citations_matched_raw:\n",
    "                item_modified = replace_citation_syntax(citations_matched_raw, item)\n",
    "                nb['cells'][i]['source'][j] = item_modified\n",
    "\n",
    "            elif bibliography_matched_raw:\n",
    "                item_modified = replace_bibliography_syntax(bibliography_matched_raw, item)\n",
    "                nb['cells'][i]['source'][j] = item_modified\n",
    "                \n",
    "            else:\n",
    "                pass\n",
    "    #############################################\n",
    "    # Modify cell content with new syntax accordingly\n",
    "    #############################################\n",
    "    return nb\n",
    "    \n"
   ]
  }
 ],
 "metadata": {
  "kernelspec": {
   "display_name": "Python 3",
   "language": "python",
   "name": "python3"
  },
  "language_info": {
   "codemirror_mode": {
    "name": "ipython",
    "version": 3
   },
   "file_extension": ".py",
   "mimetype": "text/x-python",
   "name": "python",
   "nbconvert_exporter": "python",
   "pygments_lexer": "ipython3",
   "version": "3.7.6"
  },
  "toc": {
   "base_numbering": 1,
   "nav_menu": {},
   "number_sections": true,
   "sideBar": true,
   "skip_h1_title": false,
   "title_cell": "Table of Contents",
   "title_sidebar": "Contents",
   "toc_cell": false,
   "toc_position": {},
   "toc_section_display": true,
   "toc_window_display": false
  }
 },
 "nbformat": 4,
 "nbformat_minor": 4
}
