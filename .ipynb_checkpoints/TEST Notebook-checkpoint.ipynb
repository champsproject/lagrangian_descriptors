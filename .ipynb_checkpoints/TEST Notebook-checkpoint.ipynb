{
 "cells": [
  {
   "cell_type": "code",
   "execution_count": 1,
   "metadata": {
    "ExecuteTime": {
     "end_time": "2020-07-21T17:46:59.131890Z",
     "start_time": "2020-07-21T17:46:58.146322Z"
    }
   },
   "outputs": [],
   "source": [
    "import re\n",
    "import sys\n",
    "import json\n",
    "import numpy as np\n",
    "from operator import itemgetter\n",
    "from itertools import chain\n",
    "#############################################\n",
    "# Settings\n",
    "#############################################"
   ]
  },
  {
   "cell_type": "code",
   "execution_count": 2,
   "metadata": {
    "ExecuteTime": {
     "end_time": "2020-07-21T17:46:59.140208Z",
     "start_time": "2020-07-21T17:46:59.134493Z"
    }
   },
   "outputs": [],
   "source": [
    "nb_infile = \"book/content/chapter2_1.ipynb\"\n",
    "nb_outfile = \"book/content/chapter2_1_new.ipynb\"\n",
    "bib_filename = None"
   ]
  },
  {
   "cell_type": "code",
   "execution_count": 3,
   "metadata": {
    "ExecuteTime": {
     "end_time": "2020-07-21T17:46:59.744279Z",
     "start_time": "2020-07-21T17:46:59.736457Z"
    }
   },
   "outputs": [
    {
     "name": "stdout",
     "output_type": "stream",
     "text": [
      "Input Jupyter Notebook read successfully\n"
     ]
    }
   ],
   "source": [
    "# Load Jupyter Notebook as Dictionary\n",
    "try:\n",
    "    with open(nb_infile,'r') as fp:\n",
    "        nb = json.load(fp)\n",
    "    fp.close()\n",
    "    print(\"Input Jupyter Notebook read successfully\")\n",
    "except:\n",
    "    print(\"Couldn't find Jupyter Notebook. Check your input path\")"
   ]
  },
  {
   "cell_type": "code",
   "execution_count": 4,
   "metadata": {
    "ExecuteTime": {
     "end_time": "2020-07-21T17:47:00.438689Z",
     "start_time": "2020-07-21T17:47:00.424520Z"
    }
   },
   "outputs": [],
   "source": [
    "def split_cell_content(cell_content, latex_markers_positions):\n",
    "    first_idx = latex_markers_positions[0]\n",
    "    last_idx = latex_markers_positions[-1]\n",
    "    latex_markers_positions = [0] + latex_markers_positions + [-1]\n",
    "    \n",
    "    eqs_begin_indices = latex_markers_positions[1:-1:2]\n",
    "    eqs_end_indices = list(np.array( latex_markers_positions[2::2] ) + 1)\n",
    "    eqs_idx_pairs = list(zip(eqs_begin_indices, eqs_end_indices))\n",
    "    \n",
    "    text_begin_indices = list(np.array( latex_markers_positions[2::2] ) + 1)\n",
    "    text_end_indices = list(np.array( latex_markers_positions[3:-1:2] ) + 0)\n",
    "    text_idx_pairs = [(0,first_idx)] + list(zip(text_begin_indices, text_end_indices)) + [(last_idx+1, -1)]\n",
    "    \n",
    "    all_idx_pairs = [(x, 'txt') for x in text_idx_pairs] + [(x, 'eq') for x in eqs_idx_pairs]\n",
    "    all_idx_pairs.sort(key = lambda x: x[0][0])\n",
    "\n",
    "    cell_content_split = [cell_content[idx_pair[0][0]: idx_pair[0][1]] for idx_pair in all_idx_pairs]\n",
    "    cell_content_type = [idx_pair[1] for idx_pair in all_idx_pairs]\n",
    "    \n",
    "    return cell_content_split, cell_content_type"
   ]
  },
  {
   "cell_type": "code",
   "execution_count": 5,
   "metadata": {
    "ExecuteTime": {
     "end_time": "2020-07-21T17:47:01.323516Z",
     "start_time": "2020-07-21T17:47:01.312272Z"
    }
   },
   "outputs": [],
   "source": [
    "def insert_math_env(cell_content_split, cell_content_type):\n",
    "    cell_content_new = []\n",
    "    N = len(cell_content_split)\n",
    "    for i in range(N):\n",
    "        content_chunk = cell_content_split[i]\n",
    "        content_type = cell_content_type[i]\n",
    "        if content_type == \"eq\":\n",
    "            label_name = \"\"\n",
    "            for line in content_chunk:\n",
    "                # Find all LaTeX equation labels\n",
    "                item_matched = re.findall(latex_eqlabel_pattern, line)\n",
    "                if len(item_matched) > 0:\n",
    "                    label_type, label_name = item_matched[0].strip().split(\":\")\n",
    "\n",
    "            upper = [\"```{math}\\n\", \"---\\n\", \"label: \"+label_name+\"\\n\", \"---\\n\"]\n",
    "            body  =  content_chunk\n",
    "            lower = [\"```\"]\n",
    "            content_chunk =  list(chain.from_iterable([upper, body, lower])) \n",
    "            cell_content_new.append(content_chunk)\n",
    "        else:\n",
    "            cell_content_new.append(content_chunk)\n",
    "\n",
    "    return list(chain.from_iterable(cell_content_new))"
   ]
  },
  {
   "cell_type": "code",
   "execution_count": 6,
   "metadata": {
    "ExecuteTime": {
     "end_time": "2020-07-21T17:47:01.893354Z",
     "start_time": "2020-07-21T17:47:01.877083Z"
    }
   },
   "outputs": [],
   "source": [
    "markdown_env_equation = [\"```{math}\", \"```\"] # MyST Markdown Equation environment markers\n",
    "markdown_eqlabel = [\"---\", \"label: \", \"---\"] # MyST Markdown equation label format\n",
    "\n",
    "latex_eqlabel_pattern = re.compile(r'\\\\label\\{(.+?)\\}') # LaTeX equation label pattern\n",
    "latex_env_equation = [r\"\\\\begin{equation}\", r\"\\\\end{equation}\"] #LaTeX equation environment markers\n",
    "latex_env_eqnarray = [r\"\\\\begin{eqnarray}\", r\"\\\\end{eqnarray}\"] #LaTeX eqnarray environment markers"
   ]
  },
  {
   "cell_type": "code",
   "execution_count": 7,
   "metadata": {
    "ExecuteTime": {
     "end_time": "2020-07-21T17:47:02.678473Z",
     "start_time": "2020-07-21T17:47:02.656157Z"
    }
   },
   "outputs": [],
   "source": [
    "PATTERNS = latex_env_equation + latex_env_eqnarray\n",
    "\n",
    "for i in range(len(nb['cells'])):\n",
    "    cell = nb['cells'][i]\n",
    "    latex_markers_positions = []\n",
    "    cell_content = cell['source']\n",
    "    \n",
    "    for j in range(len(cell['source'])):\n",
    "        item = cell['source'][j]\n",
    "\n",
    "        for string in PATTERNS:\n",
    "            item_matched = re.findall(string, item)\n",
    "            if len(item_matched) > 0:\n",
    "                latex_markers_positions.append(j)\n",
    "    if len(latex_markers_positions) > 0:\n",
    "        cell_content_split, cell_content_type = split_cell_content(cell_content, latex_markers_positions)\n",
    "        cell_content_modified = insert_math_env(cell_content_split, cell_content_type)\n",
    "        nb['cells'][i]['source'] = cell_content_modified"
   ]
  },
  {
   "cell_type": "code",
   "execution_count": 8,
   "metadata": {
    "ExecuteTime": {
     "end_time": "2020-07-21T17:47:03.675161Z",
     "start_time": "2020-07-21T17:47:03.658704Z"
    }
   },
   "outputs": [],
   "source": [
    "with open(nb_outfile,'w') as fp:\n",
    "    json.dump(nb, fp)"
   ]
  }
 ],
 "metadata": {
  "kernelspec": {
   "display_name": "Python 3",
   "language": "python",
   "name": "python3"
  },
  "language_info": {
   "codemirror_mode": {
    "name": "ipython",
    "version": 3
   },
   "file_extension": ".py",
   "mimetype": "text/x-python",
   "name": "python",
   "nbconvert_exporter": "python",
   "pygments_lexer": "ipython3",
   "version": "3.7.6"
  },
  "toc": {
   "base_numbering": 1,
   "nav_menu": {},
   "number_sections": true,
   "sideBar": true,
   "skip_h1_title": false,
   "title_cell": "Table of Contents",
   "title_sidebar": "Contents",
   "toc_cell": false,
   "toc_position": {},
   "toc_section_display": true,
   "toc_window_display": false
  }
 },
 "nbformat": 4,
 "nbformat_minor": 4
}
