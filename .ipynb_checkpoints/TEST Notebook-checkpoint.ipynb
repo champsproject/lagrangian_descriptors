{
 "cells": [
  {
   "cell_type": "code",
   "execution_count": 1,
   "metadata": {
    "ExecuteTime": {
     "end_time": "2020-07-22T08:57:12.805036Z",
     "start_time": "2020-07-22T08:57:10.776830Z"
    }
   },
   "outputs": [],
   "source": [
    "import re\n",
    "import sys\n",
    "import json\n",
    "import numpy as np\n",
    "from operator import itemgetter\n",
    "from itertools import chain\n",
    "#############################################\n",
    "# Settings\n",
    "#############################################"
   ]
  },
  {
   "cell_type": "code",
   "execution_count": 2,
   "metadata": {
    "ExecuteTime": {
     "end_time": "2020-07-22T08:57:12.816321Z",
     "start_time": "2020-07-22T08:57:12.807854Z"
    }
   },
   "outputs": [],
   "source": [
    "nb_infile = \"book/content/chapter3.ipynb\"\n",
    "nb_outfile = \"book/content/chapter3_new.ipynb\"\n",
    "bib_filename = None"
   ]
  },
  {
   "cell_type": "code",
   "execution_count": 3,
   "metadata": {
    "ExecuteTime": {
     "end_time": "2020-07-22T08:57:12.844092Z",
     "start_time": "2020-07-22T08:57:12.825202Z"
    }
   },
   "outputs": [
    {
     "name": "stdout",
     "output_type": "stream",
     "text": [
      "Input Jupyter Notebook read successfully\n"
     ]
    }
   ],
   "source": [
    "# Load Jupyter Notebook as Dictionary\n",
    "try:\n",
    "    with open(nb_infile,'r') as fp:\n",
    "        nb = json.load(fp)\n",
    "    fp.close()\n",
    "    print(\"Input Jupyter Notebook read successfully\")\n",
    "except:\n",
    "    print(\"Couldn't find Jupyter Notebook. Check your input path\")"
   ]
  },
  {
   "cell_type": "code",
   "execution_count": 4,
   "metadata": {
    "ExecuteTime": {
     "end_time": "2020-07-22T08:57:12.868040Z",
     "start_time": "2020-07-22T08:57:12.848727Z"
    }
   },
   "outputs": [],
   "source": [
    "def split_cell_content(cell_content, latex_markers_positions):\n",
    "    first_idx = latex_markers_positions[0]\n",
    "    last_idx = latex_markers_positions[-1]\n",
    "    latex_markers_positions = [0] + latex_markers_positions + [-1]\n",
    "    \n",
    "    eqs_begin_indices = latex_markers_positions[1:-1:2]\n",
    "    eqs_end_indices = list(np.array( latex_markers_positions[2::2] ) + 1)\n",
    "    eqs_idx_pairs = list(zip(eqs_begin_indices, eqs_end_indices))\n",
    "    \n",
    "    text_begin_indices = list(np.array( latex_markers_positions[2::2] ) + 1)\n",
    "    text_end_indices = list(np.array( latex_markers_positions[3:-1:2] ) + 0)\n",
    "    text_idx_pairs = [(0,first_idx)] + list(zip(text_begin_indices, text_end_indices)) + [(last_idx+1, -1)]\n",
    "    \n",
    "    all_idx_pairs = [(x, 'txt') for x in text_idx_pairs] + [(x, 'eq') for x in eqs_idx_pairs]\n",
    "    all_idx_pairs.sort(key = lambda x: x[0][0])\n",
    "\n",
    "    cell_content_split = [cell_content[idx_pair[0][0]: idx_pair[0][1]] for idx_pair in all_idx_pairs]\n",
    "    cell_content_type = [idx_pair[1] for idx_pair in all_idx_pairs]\n",
    "    \n",
    "    return cell_content_split, cell_content_type"
   ]
  },
  {
   "cell_type": "code",
   "execution_count": 5,
   "metadata": {
    "ExecuteTime": {
     "end_time": "2020-07-22T08:57:12.883405Z",
     "start_time": "2020-07-22T08:57:12.870909Z"
    }
   },
   "outputs": [],
   "source": [
    "def insert_math_env(cell_content_split, cell_content_type):\n",
    "    cell_content_new = []\n",
    "    N = len(cell_content_split)\n",
    "    for i in range(N):\n",
    "        content_chunk = cell_content_split[i]\n",
    "        content_type = cell_content_type[i]\n",
    "        if content_type == \"eq\":\n",
    "            # Define label name as empty character by default\n",
    "            label_name = \"\"\n",
    "            for line in content_chunk:\n",
    "                # Find all LaTeX equation labels\n",
    "                item_matched = re.findall(latex_eqlabel_pattern, line)\n",
    "                if len(item_matched) > 0:\n",
    "                    # Extract label name\n",
    "                    try:\n",
    "                        # if label name accompanied by LaTeX label marker\n",
    "                        label_type, label_name = item_matched[0].strip().split(\":\")\n",
    "                    except:\n",
    "                        # or without\n",
    "                        label_name = item_matched[0].strip()\n",
    "                        print(label_name)\n",
    "            # Wrap equation block up, MyST syntax\n",
    "            upper = [\"```{math}\\n\", \"---\\n\", \"label: \"+label_name+\"\\n\", \"---\\n\"]\n",
    "            body  =  content_chunk\n",
    "            lower = [\"```\\n\"]\n",
    "            content_chunk =  list(chain.from_iterable([upper, body, lower])) \n",
    "            cell_content_new.append(content_chunk)\n",
    "        else:\n",
    "            cell_content_new.append(content_chunk)\n",
    "\n",
    "    return list(chain.from_iterable(cell_content_new))"
   ]
  },
  {
   "cell_type": "code",
   "execution_count": 6,
   "metadata": {
    "ExecuteTime": {
     "end_time": "2020-07-22T08:57:12.898741Z",
     "start_time": "2020-07-22T08:57:12.886285Z"
    }
   },
   "outputs": [],
   "source": [
    "markdown_env_equation = [\"```{math}\", \"```\"] # MyST Markdown Equation environment markers\n",
    "markdown_eqlabel = [\"---\", \"label: \", \"---\"] # MyST Markdown equation label format\n",
    "\n",
    "latex_eqlabel_pattern = re.compile(r'\\\\label\\{(.+?)\\}') # LaTeX equation label pattern\n",
    "latex_env_equation = [r\"\\\\begin{equation}\", r\"\\\\end{equation}\"] #LaTeX equation environment markers\n",
    "latex_env_eqnarray = [r\"\\\\begin{eqnarray}\", r\"\\\\end{eqnarray}\"] #LaTeX eqnarray environment markers"
   ]
  },
  {
   "cell_type": "code",
   "execution_count": 7,
   "metadata": {
    "ExecuteTime": {
     "end_time": "2020-07-22T08:57:12.939147Z",
     "start_time": "2020-07-22T08:57:12.902071Z"
    }
   },
   "outputs": [
    {
     "name": "stdout",
     "output_type": "stream",
     "text": [
      "Xt\n",
      "Ito\n",
      "deterministic_system\n",
      "noisy_saddle\n",
      "noisy_saddle_solutions\n",
      "noisy_saddle_RDS\n",
      "invariance\n",
      "invariance_x\n",
      "invariance_y\n",
      "stationary_orbit\n",
      "general_noisy_saddle_solutions\n",
      "x_increments\n",
      "y_increments\n",
      "higher_order_x\n",
      "higher_order_y\n"
     ]
    }
   ],
   "source": [
    "PATTERNS = latex_env_equation + latex_env_eqnarray\n",
    "\n",
    "for i in range(len(nb['cells'])):\n",
    "    cell = nb['cells'][i]\n",
    "    latex_markers_positions = []\n",
    "    cell_content = cell['source']\n",
    "    \n",
    "    for j in range(len(cell['source'])):\n",
    "        item = cell['source'][j]\n",
    "\n",
    "        for string in PATTERNS:\n",
    "            item_matched = re.findall(string, item)\n",
    "            if len(item_matched) > 0:\n",
    "                latex_markers_positions.append(j)\n",
    "    if len(latex_markers_positions) > 0:\n",
    "        cell_content_split, cell_content_type = split_cell_content(cell_content, latex_markers_positions)\n",
    "        cell_content_modified = insert_math_env(cell_content_split, cell_content_type)\n",
    "        nb['cells'][i]['source'] = cell_content_modified"
   ]
  },
  {
   "cell_type": "code",
   "execution_count": 8,
   "metadata": {
    "ExecuteTime": {
     "end_time": "2020-07-22T08:57:12.957175Z",
     "start_time": "2020-07-22T08:57:12.942849Z"
    }
   },
   "outputs": [],
   "source": [
    "with open(nb_outfile,'w') as fp:\n",
    "    json.dump(nb, fp)\n",
    "fp.close()"
   ]
  },
  {
   "cell_type": "markdown",
   "metadata": {},
   "source": [
    "# Citation Syntax Conversion"
   ]
  },
  {
   "cell_type": "code",
   "execution_count": null,
   "metadata": {},
   "outputs": [],
   "source": [
    "%%writefile scripts/citations_latex2myst.py\n",
    "def replace_citation_syntax(citations_matched_raw, item):\n",
    "    \"\"\"Replace native LaTeX syntax for inline citations in a cell item (paragraph) with MyST Markdown\"\"\"\n",
    "    item_modified = item\n",
    "    for match in citations_matched_raw:\n",
    "        bib_tags_raw = re.split(\",\", match)\n",
    "        bib_tags_clean = [x.strip() for x in bib_tags_raw]\n",
    "        \n",
    "        # Replace LaTeX syntax with new one in cell items\n",
    "        new_syntax_items = [\"{cite}`\"]+[\",\".join(bib_tags_clean)]+[\"`\"]\n",
    "        separator = ''\n",
    "        chunk_new = separator.join(new_syntax_items)\n",
    "        chunk_original = '\\cite{'+match+'}'\n",
    "        item_modified = item_modified.replace(chunk_original, chunk_new)\n",
    "    return item_modified\n",
    "\n",
    "def replace_bibliography_syntax(bibliography_matched_raw, item):\n",
    "    # Only one single bibliography line exists\n",
    "    bib_filename = bibliography_matched_raw[0].strip()\n",
    "    separator = ''\n",
    "    new_syntax_items = [\"```{bibliography} \"]+[bib_filename+\"\\n\"]+[\"```\\n\"]\n",
    "    chunk_new = separator.join(new_syntax_items)\n",
    "    chunk_original = r'\\bibliography{'+bibliography_matched_raw[0]+'}'\n",
    "    item_modified = item.replace(chunk_original, chunk_new)\n",
    "    return item_modified\n",
    "\n",
    "def latex_to_new_syntax_bib(nb):\n",
    "    for i in range(len(nb['cells'])):\n",
    "        cell = nb['cells'][i]\n",
    "        for j in range(len(cell['source'])):\n",
    "            item = cell['source'][j]\n",
    "\n",
    "            citations_matched_raw = re.findall(citations_pattern,item)\n",
    "            bibliography_matched_raw = re.findall(bibliography_pattern,item)\n",
    "\n",
    "            if citations_matched_raw:\n",
    "                item_modified = replace_citation_syntax(citations_matched_raw, item)\n",
    "                nb['cells'][i]['source'][j] = item_modified\n",
    "\n",
    "            elif bibliography_matched_raw:\n",
    "                item_modified = replace_bibliography_syntax(bibliography_matched_raw, item)\n",
    "                nb['cells'][i]['source'][j] = item_modified\n",
    "    return nb\n",
    "\n",
    "if __name__ == \"__main__\":\n",
    "    import re\n",
    "    import sys\n",
    "    import json\n",
    "    \n",
    "    # Script inputs\n",
    "    nb_infile = sys.argv[1]  # Input NoteBook (.ipynb)\n",
    "    nb_outfile = sys.argv[2] # Output Notebook (.ipynb)\n",
    "    bib_filename = sys.argv[3] # BibTeX file name (.bib)\n",
    "    \n",
    "    # Matching patterns of native LaTeX syntax for replacement\n",
    "    citations_pattern = re.compile(r'\\\\cite\\{(.+?)\\}')\n",
    "    bibliography_pattern = re.compile(r'\\\\bibliography\\{(.+?)\\}')\n",
    "    \n",
    "    # Load Jupyter Notebook via JSON\n",
    "    try:\n",
    "        with open(nb_infile,'r') as fp:\n",
    "            nb = json.load(fp)\n",
    "        fp.close()\n",
    "    except:\n",
    "        error_mssg = \"Couldn't find Jupyter Notebook. Check your input path.\"\n",
    "        print(error_mssg)\n",
    "        sys.exit()\n",
    "    \n",
    "    # Modify syntax in all cells of input NoteBook\n",
    "    nb_modified = latex_to_new_syntax_bib(nb)\n",
    "    \n",
    "    # Save modified Notebook\n",
    "    with open(nb_outfile,'w') as fp:\n",
    "        json.dump(nb_modified, fp)\n",
    "    fp.close()\n",
    "    output_mssg = \"New Notebook successfully generated\"\n",
    "    print(output_mssg)"
   ]
  }
 ],
 "metadata": {
  "kernelspec": {
   "display_name": "Python 3",
   "language": "python",
   "name": "python3"
  },
  "language_info": {
   "codemirror_mode": {
    "name": "ipython",
    "version": 3
   },
   "file_extension": ".py",
   "mimetype": "text/x-python",
   "name": "python",
   "nbconvert_exporter": "python",
   "pygments_lexer": "ipython3",
   "version": "3.7.6"
  },
  "toc": {
   "base_numbering": 1,
   "nav_menu": {},
   "number_sections": true,
   "sideBar": true,
   "skip_h1_title": false,
   "title_cell": "Table of Contents",
   "title_sidebar": "Contents",
   "toc_cell": false,
   "toc_position": {},
   "toc_section_display": true,
   "toc_window_display": false
  }
 },
 "nbformat": 4,
 "nbformat_minor": 4
}
