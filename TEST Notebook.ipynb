{
 "cells": [
  {
   "cell_type": "code",
   "execution_count": 19,
   "metadata": {
    "ExecuteTime": {
     "end_time": "2020-07-20T11:23:36.306422Z",
     "start_time": "2020-07-20T11:23:36.300565Z"
    }
   },
   "outputs": [],
   "source": [
    "import re\n",
    "import sys\n",
    "import json\n",
    "#############################################\n",
    "# Settings\n",
    "#############################################\n",
    "citations_pattern = re.compile(r'\\\\cite\\{(.+?)\\}')\n",
    "bibliography_pattern = re.compile(r'\\\\bibliography\\{(.+?)\\}')\n",
    "#############################################\n",
    "# Script input arguments (self-explanatory)\n",
    "#############################################"
   ]
  },
  {
   "cell_type": "code",
   "execution_count": 20,
   "metadata": {
    "ExecuteTime": {
     "end_time": "2020-07-20T11:23:37.098407Z",
     "start_time": "2020-07-20T11:23:37.084306Z"
    }
   },
   "outputs": [
    {
     "name": "stdout",
     "output_type": "stream",
     "text": [
      "Couldn't find Jupyter Notebook. Check your input path\n"
     ]
    }
   ],
   "source": [
    "nb_infile = \"book/content/chapter1_2.ipynb\"\n",
    "nb_outfile = \"book/content/chapter1_2_new.ipynb\"\n",
    "bib_filename = None\n",
    "#############################################\n",
    "# Load Jupyter Notebook as Dictionary\n",
    "#############################################\n",
    "try:\n",
    "    with open(nb_infile,'r') as fp:\n",
    "        nb = json.load(fp)\n",
    "    fp.close()\n",
    "    #############################################\n",
    "    # Turn LaTeX label/ref syntax in Jupyter Noteboks into MD syntax\n",
    "    #############################################\n",
    "    nb_modified = latex_to_jekyll_bib(nb)\n",
    "\n",
    "    with open(nb_outfile,'w') as fp:\n",
    "        json.dump(nb_modified, fp)\n",
    "        fp.close()\n",
    "        print(\"New Notebook successfully generated\")\n",
    "except:\n",
    "    print(\"Couldn't find Jupyter Notebook. Check your input path\")"
   ]
  },
  {
   "cell_type": "code",
   "execution_count": 25,
   "metadata": {
    "ExecuteTime": {
     "end_time": "2020-07-20T11:27:30.726944Z",
     "start_time": "2020-07-20T11:27:30.720990Z"
    }
   },
   "outputs": [],
   "source": [
    "mymarkdown_eqenv = [\"```{math}\", \"```\"]\n",
    "eqlabel_pattern = re.compile(r'\\\\label\\{(.+?)\\}')\n",
    "latex_eqenv = [\"\\\\begin{equation}\", eqlabel_pattern, \"\\\\end{equation}\"]"
   ]
  },
  {
   "cell_type": "code",
   "execution_count": 27,
   "metadata": {
    "ExecuteTime": {
     "end_time": "2020-07-20T11:28:00.231777Z",
     "start_time": "2020-07-20T11:28:00.209869Z"
    }
   },
   "outputs": [
    {
     "ename": "TypeError",
     "evalue": "unhashable type: 'list'",
     "output_type": "error",
     "traceback": [
      "\u001b[0;31m---------------------------------------------------------------------------\u001b[0m",
      "\u001b[0;31mTypeError\u001b[0m                                 Traceback (most recent call last)",
      "\u001b[0;32m<ipython-input-27-8d7cf7416940>\u001b[0m in \u001b[0;36m<module>\u001b[0;34m\u001b[0m\n\u001b[1;32m      4\u001b[0m         \u001b[0mitem\u001b[0m \u001b[0;34m=\u001b[0m \u001b[0mcell\u001b[0m\u001b[0;34m[\u001b[0m\u001b[0;34m'source'\u001b[0m\u001b[0;34m]\u001b[0m\u001b[0;34m[\u001b[0m\u001b[0mj\u001b[0m\u001b[0;34m]\u001b[0m\u001b[0;34m\u001b[0m\u001b[0;34m\u001b[0m\u001b[0m\n\u001b[1;32m      5\u001b[0m         \u001b[0meqlabel_matched_raw\u001b[0m \u001b[0;34m=\u001b[0m \u001b[0mre\u001b[0m\u001b[0;34m.\u001b[0m\u001b[0mfindall\u001b[0m\u001b[0;34m(\u001b[0m\u001b[0meqlabel_pattern\u001b[0m\u001b[0;34m,\u001b[0m\u001b[0mitem\u001b[0m\u001b[0;34m)\u001b[0m\u001b[0;34m\u001b[0m\u001b[0;34m\u001b[0m\u001b[0m\n\u001b[0;32m----> 6\u001b[0;31m         \u001b[0mx\u001b[0m \u001b[0;34m=\u001b[0m \u001b[0mre\u001b[0m\u001b[0;34m.\u001b[0m\u001b[0mfindall\u001b[0m\u001b[0;34m(\u001b[0m\u001b[0mmymarkdown_eqenv\u001b[0m\u001b[0;34m,\u001b[0m\u001b[0mitem\u001b[0m\u001b[0;34m)\u001b[0m\u001b[0;34m\u001b[0m\u001b[0;34m\u001b[0m\u001b[0m\n\u001b[0m\u001b[1;32m      7\u001b[0m         \u001b[0mprint\u001b[0m\u001b[0;34m(\u001b[0m\u001b[0meqlabel_matched_raw\u001b[0m\u001b[0;34m,\u001b[0m \u001b[0mx\u001b[0m\u001b[0;34m)\u001b[0m\u001b[0;34m\u001b[0m\u001b[0;34m\u001b[0m\u001b[0m\n",
      "\u001b[0;32m~/opt/anaconda3/lib/python3.7/re.py\u001b[0m in \u001b[0;36mfindall\u001b[0;34m(pattern, string, flags)\u001b[0m\n\u001b[1;32m    221\u001b[0m \u001b[0;34m\u001b[0m\u001b[0m\n\u001b[1;32m    222\u001b[0m     Empty matches are included in the result.\"\"\"\n\u001b[0;32m--> 223\u001b[0;31m     \u001b[0;32mreturn\u001b[0m \u001b[0m_compile\u001b[0m\u001b[0;34m(\u001b[0m\u001b[0mpattern\u001b[0m\u001b[0;34m,\u001b[0m \u001b[0mflags\u001b[0m\u001b[0;34m)\u001b[0m\u001b[0;34m.\u001b[0m\u001b[0mfindall\u001b[0m\u001b[0;34m(\u001b[0m\u001b[0mstring\u001b[0m\u001b[0;34m)\u001b[0m\u001b[0;34m\u001b[0m\u001b[0;34m\u001b[0m\u001b[0m\n\u001b[0m\u001b[1;32m    224\u001b[0m \u001b[0;34m\u001b[0m\u001b[0m\n\u001b[1;32m    225\u001b[0m \u001b[0;32mdef\u001b[0m \u001b[0mfinditer\u001b[0m\u001b[0;34m(\u001b[0m\u001b[0mpattern\u001b[0m\u001b[0;34m,\u001b[0m \u001b[0mstring\u001b[0m\u001b[0;34m,\u001b[0m \u001b[0mflags\u001b[0m\u001b[0;34m=\u001b[0m\u001b[0;36m0\u001b[0m\u001b[0;34m)\u001b[0m\u001b[0;34m:\u001b[0m\u001b[0;34m\u001b[0m\u001b[0;34m\u001b[0m\u001b[0m\n",
      "\u001b[0;32m~/opt/anaconda3/lib/python3.7/re.py\u001b[0m in \u001b[0;36m_compile\u001b[0;34m(pattern, flags)\u001b[0m\n\u001b[1;32m    274\u001b[0m         \u001b[0mflags\u001b[0m \u001b[0;34m=\u001b[0m \u001b[0mflags\u001b[0m\u001b[0;34m.\u001b[0m\u001b[0mvalue\u001b[0m\u001b[0;34m\u001b[0m\u001b[0;34m\u001b[0m\u001b[0m\n\u001b[1;32m    275\u001b[0m     \u001b[0;32mtry\u001b[0m\u001b[0;34m:\u001b[0m\u001b[0;34m\u001b[0m\u001b[0;34m\u001b[0m\u001b[0m\n\u001b[0;32m--> 276\u001b[0;31m         \u001b[0;32mreturn\u001b[0m \u001b[0m_cache\u001b[0m\u001b[0;34m[\u001b[0m\u001b[0mtype\u001b[0m\u001b[0;34m(\u001b[0m\u001b[0mpattern\u001b[0m\u001b[0;34m)\u001b[0m\u001b[0;34m,\u001b[0m \u001b[0mpattern\u001b[0m\u001b[0;34m,\u001b[0m \u001b[0mflags\u001b[0m\u001b[0;34m]\u001b[0m\u001b[0;34m\u001b[0m\u001b[0;34m\u001b[0m\u001b[0m\n\u001b[0m\u001b[1;32m    277\u001b[0m     \u001b[0;32mexcept\u001b[0m \u001b[0mKeyError\u001b[0m\u001b[0;34m:\u001b[0m\u001b[0;34m\u001b[0m\u001b[0;34m\u001b[0m\u001b[0m\n\u001b[1;32m    278\u001b[0m         \u001b[0;32mpass\u001b[0m\u001b[0;34m\u001b[0m\u001b[0;34m\u001b[0m\u001b[0m\n",
      "\u001b[0;31mTypeError\u001b[0m: unhashable type: 'list'"
     ]
    }
   ],
   "source": [
    "for i in range(len(nb['cells'])):\n",
    "    cell = nb['cells'][i]\n",
    "    for j in range(len(cell['source'])):\n",
    "        item = cell['source'][j]\n",
    "        eqlabel_matched_raw = re.findall(eqlabel_pattern,item)\n",
    "        x = re.findall(mymarkdown_eqenv,item)\n",
    "        print(eqlabel_matched_raw, x)"
   ]
  },
  {
   "cell_type": "code",
   "execution_count": null,
   "metadata": {},
   "outputs": [],
   "source": [
    "\n",
    "def replace_citation_syntax(citations_matched_raw, item):\n",
    "    item_modified = item\n",
    "    for match in citations_matched_raw:\n",
    "        bib_tags_raw = re.split(\",\", match)\n",
    "        bib_tags_clean = [x.strip() for x in bib_tags_raw]\n",
    "        #############################################\n",
    "        # Replace LaTeX syntax with jekyll's in cell items\n",
    "        #############################################\n",
    "#         jekyll_syntax_items = [\"{% cite\"]+bib_tags_clean+['--file '+bib_filename]+[\"%}\"]\n",
    "        jekyll_syntax_items = [\"{cite}`\"]+[\",\".join(bib_tags_clean)]+[\"`\"]\n",
    "        separator = ''\n",
    "        chunk_new = separator.join(jekyll_syntax_items)\n",
    "        chunk_original = '\\cite{'+match+'}'\n",
    "        item_modified = item_modified.replace(chunk_original, chunk_new)\n",
    "    return item_modified\n",
    "\n",
    "def replace_bibliography_syntax(bibliography_matched_raw, item):\n",
    "    # Only one single bibliography line exists\n",
    "    bib_tags_raw = re.split(\",\", bibliography_matched_raw[0])\n",
    "    bib_tags_clean = [x.strip() for x in bib_tags_raw]\n",
    "    separator = ' '\n",
    "    jekyll_syntax_items = [\"{% bibliography\"]+[separator.join(['--file', x]) for x in bib_tags_clean]+[\"--cited %}\"]\n",
    "    chunk_new = separator.join(jekyll_syntax_items)\n",
    "    chunk_original = r'\\bibliography{'+bibliography_matched_raw[0]+'}'\n",
    "    item_modified = item.replace(chunk_original, chunk_new)\n",
    "    return item_modified\n",
    "\n",
    "def latex_to_jekyll_bib(nb):\n",
    "    for i in range(len(nb['cells'])):\n",
    "        cell = nb['cells'][i]\n",
    "        for j in range(len(cell['source'])):\n",
    "            item = cell['source'][j]\n",
    "\n",
    "            citations_matched_raw = re.findall(citations_pattern,item)\n",
    "            bibliography_matched_raw = re.findall(bibliography_pattern,item)\n",
    "\n",
    "            if citations_matched_raw:\n",
    "                item_modified = replace_citation_syntax(citations_matched_raw, item)\n",
    "                nb['cells'][i]['source'][j] = item_modified\n",
    "\n",
    "            elif bibliography_matched_raw:\n",
    "                item_modified = replace_bibliography_syntax(bibliography_matched_raw, item)\n",
    "                nb['cells'][i]['source'][j] = item_modified\n",
    "                \n",
    "            else:\n",
    "                pass\n",
    "    #############################################\n",
    "    # Modify cell content with new syntax accordingly\n",
    "    #############################################\n",
    "    return nb\n",
    "    \n"
   ]
  }
 ],
 "metadata": {
  "kernelspec": {
   "display_name": "Python 3",
   "language": "python",
   "name": "python3"
  },
  "language_info": {
   "codemirror_mode": {
    "name": "ipython",
    "version": 3
   },
   "file_extension": ".py",
   "mimetype": "text/x-python",
   "name": "python",
   "nbconvert_exporter": "python",
   "pygments_lexer": "ipython3",
   "version": "3.7.6"
  },
  "toc": {
   "base_numbering": 1,
   "nav_menu": {},
   "number_sections": true,
   "sideBar": true,
   "skip_h1_title": false,
   "title_cell": "Table of Contents",
   "title_sidebar": "Contents",
   "toc_cell": false,
   "toc_position": {},
   "toc_section_display": true,
   "toc_window_display": false
  }
 },
 "nbformat": 4,
 "nbformat_minor": 4
}
